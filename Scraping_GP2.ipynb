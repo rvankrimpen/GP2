{
  "cells": [
    {
      "cell_type": "markdown",
      "metadata": {
        "id": "f1gL2DEfNRGu"
      },
      "source": [
        "# Современные методы анализа данных и машинного обучения, БИ\n",
        "\n",
        "## НИУ ВШЭ, 2024-25 учебный год"
      ]
    },
    {
      "cell_type": "markdown",
      "metadata": {
        "id": "fdTH3pxXFLxw"
      },
      "source": [
        "## Групповой проект №2. DE: Scraping & API"
      ]
    },
    {
      "cell_type": "markdown",
      "metadata": {
        "id": "kqVyveO4FLxx"
      },
      "source": [
        "## Общая информация"
      ]
    },
    {
      "cell_type": "markdown",
      "metadata": {
        "id": "2A0wmBWwFLxx"
      },
      "source": [
        "__Дата выдачи:__ 21.02.2025\n",
        "\n",
        "__Защита проекта:__ 05.03.2025"
      ]
    },
    {
      "cell_type": "markdown",
      "metadata": {
        "id": "c3WPv6hp7hNJ"
      },
      "source": [
        "## Формат выполнения"
      ]
    },
    {
      "cell_type": "markdown",
      "metadata": {
        "id": "G119PlyX7hNS"
      },
      "source": [
        "Групповой проект представляет собой творческое инициативное групповое задание, которое выполняется студентами в командах от 3 до 6 человек. В то же время, следует помнить, что чем больше в команде людей, тем выше предъявляются требования в целом к команде, а также к выполняему ею проекту. Команды разрешается формировать из студентов разных групп.\n",
        "\n",
        "При оценивании результатов выполнения проекта командой, в обязательном порядке проверяется и учитывается в оценке вклад ***каждого участника*** в общую работу команды. Вследствие этого, крайне важно ответственно подойти к выбору сокомандников, распределению обязанностей внутри команды, а также пресечению наличия \"мертвых душ\" в команде.\n",
        "\n",
        "При необходимости, команда большинством голосов имеет право исключить человека из команды *до защиты проекта*, сообщив об этом преподавателю, в случае если такой человек никак не проявлялся в ходе выполнения проекта и являлся как раз таки той самой \"мертвой душой\". Помните про эту возможность, поскольку наличие \"мертвых душ\" может негативно повлиять на качество и оценку для всего проекта и, как следствие, в целом для всей команды!\n",
        "\n",
        "Запись составов команд осуществляется по ссылке в таблице:\n",
        "\n",
        "https://docs.google.com/spreadsheets/d/1aUFah0NgORUzjMoA6QxKt7OyVN5djf1Vvq3vB1bbx8k/edit?usp=sharing"
      ]
    },
    {
      "cell_type": "markdown",
      "metadata": {
        "id": "qK8Ari9eFLxz"
      },
      "source": [
        "## Оценивание и штрафы\n",
        "\n"
      ]
    },
    {
      "cell_type": "markdown",
      "metadata": {
        "id": "QGLPrtP8M51y"
      },
      "source": [
        "Групповой проект оценивается исходя из устной защиты (презентации) командой выполненного ими проекта перед комиссией. Комиссия составляется из преподавателей курса, ассистентов курса, а также приглашенных экспертов из индустрии.\n",
        "\n",
        "В рамках каждой защиты комиссия выставляет два типа оценок.\n",
        "\n",
        "Первая оценка — это оценка для всего проекта в целом. Она ставится комиссией, исходя из глубины проработки командой предметной области, сложности применяемых в проекте инструментов, а также прочих аспектов, связанных с содержанием выполняемого в проекте ТЗ. При выставлении этой оценки комиссия ориентируется на критерии, более подробно представленные ниже в разделе \"Критерии оценки проекта\".\n",
        "\n",
        "Вторая оценка — это индивидуальная оценка каждого участника команды. Именно эта оценка выставляется впоследствии в ведомость. Индивидуальная оценка участника команды определяется комиссией, исходя из того, насколько участник ориентируется в выполненном командой проекте, как он отвечает на адресованные персонально ему вопросы комиссии, насколько в принципе прослеживается его роль в проекте, а также исходя из других аспектов, связанных с участием конкретного человека в деятельности команды. Индивидуальная оценка не может превосходить оценку команды за проект в целом (первую оценку), однако, в случае когда участник спокойно и корректно отвечает на все адресованные ему вопросы, свободно ориентируется в материале и содержании выполненного проекта, а также когда его роль в работе команды не вызывает сомнений, — в таком случае, индивидуальная оценка участника становится равной оценке для всего проекта (т.е. в идеальном случае — вторая оценка равна первой оценке). Кроме того, в исключительных случаях, при демонстрации участником на защите превосходящих ожидания уровней понимания, участия и вовлечения в рамках проекта, комиссия может своим решением повысить индивидуальную оценку для этого участника на 0,5 или 1 балл относительно общей оценки за проект (первой оценки).\n",
        "\n",
        "Во избежание субъективности и/или предвзятости оценки тех или иных членов комиссии в отношении тех или иных команд, а также каких-либо иных проявлений неравных условий — распределение команд между комиссиями осуществляется абсолютно рандомно с использованием средств библиотеки Numpy :)) — в качестве рэндом сида выступает дата, в которую производится распределение, например, `np.random.seed(21022025)`.\n",
        "\n",
        "Обратите, пожалуйста, внимание на то, что бОльшая часть комиссий осуществляет приём проектов в очной форме, однако могут присутствовать и 1-2 комиссии, которые будут работать дистанционно с использованием средств видеосвязи. В случае попадания команды путем случайного распределения в комиссию, работающую в очной форме, *не допускается* какое-либо изменение формата проведения для команды на онлайн-режим, равно как и любые другие перемещения команд между комиссиями (смены комиссий), для сохранения честности и непредвзятости случайного распределения.\n",
        "\n",
        "Явка студента на защиту проекта является обязательной; вклад студента без его присутствия не оценивается и автоматически является равным нулю. Для дистанционных комиссий, дополнительным требованием является обязательное наличие включенной камеры в течение всего времени нахождения в конференции"
      ]
    },
    {
      "cell_type": "markdown",
      "metadata": {
        "id": "zNja-u8vFLx0"
      },
      "source": [
        "## Описание задания"
      ]
    },
    {
      "cell_type": "markdown",
      "metadata": {
        "id": "JYeFv80TV21w"
      },
      "source": [
        "В современном мире данных эффективный сбор и интеграция информации из различных источников являются фундаментом для принятия обоснованных решений и успешного ведения бизнеса. Компании, стремясь к конкурентоспособности, активно используют технологии веб-скрапинга и взаимодействия с API для автоматизации процесса сбора данных, обеспечения их актуальности и полноты.\n",
        "\n",
        "В данном проекте вы на реальных данных попрактикуетесь в том, как осуществляется веб-скрапинг различных сайтов для извлечения необходимой информации, а также в работе с API популярных сервисов для получения структурированных данных. Вы научитесь применять современные инструменты и библиотеки, отражающие различные этапы DE, обрабатывать и очищать полученную информацию, а также интегрировать данные из различных источников для последующего использования их в аналитических и бизнес-задачах.\n",
        "\n"
      ]
    },
    {
      "cell_type": "markdown",
      "metadata": {
        "id": "gMo29nogPpDI"
      },
      "source": [
        "### Постановка задачи"
      ]
    },
    {
      "cell_type": "markdown",
      "metadata": {
        "id": "YyNqz9hPPrIE"
      },
      "source": [
        "В рамках этого проекта вы сами найдете датасет, с которым будете работать. Точнее, не найдете, а... соберёте его самостоятельно на основе источников!\n",
        "\n",
        "Итак, начните с того, что выберите два сайта/портала со схожей тематикой (например, NYT и Bloomberg). Их тематика должна позволять в дальнейшем объединить данные в единую таблицу. Один из этих двух сайтов нужно будет обработать с помощью средств Web-Scraping'a и Data Parsing'a; другой же — используя API.\n",
        "\n",
        "Определившись с источниками, непосредственно проделайте скачивание данных путём скрейпинга и методами API соответственно и затем объедините всё в финальный датасет. Обязательным требованием к датасету является также наличие в нём как минимум одного столбца с текстовыми данными: описание, состав, комментарии о чём-либо, текст заметки/новости, или что-то ещё.\n",
        "\n",
        "Кроме того, разумеется, следует помнить, что полученный датасет должен, конечно, быть осмысленным с бизнес-точки зрения и потенциально позволять решать какую-то конкретную бизнес-задачу. Это как минимум означает, что каждому объекту, имеющему своё признаковое пространство — в том числе с текстовым признаком, — должно также соответствовать значение некоторой целевой переменной, которая является релевантной в рамках выбранной вами предметной области.\n",
        "\n",
        "\n"
      ]
    },
    {
      "cell_type": "markdown",
      "metadata": {
        "id": "9iaXs89vRb1e"
      },
      "source": [
        "Примеры задач, которые мы можем предложить вам в качестве источника для вдохновения — пожалуйста, ни в коем случае не воспринимайте это как исчерпывающий список — это действительно всего лишь примеры:\n",
        "\n",
        "* Сайт новостей: текстовый столбец — сама новость; признаки — различные характеристики новости: автор, дата публикации, тип новости и т.д.; целевая переменная — количество просмотров новости (можно поделить на число дней с момента даты публикации, чтобы получить «среднее число просмотров в день», что ещё нагляднее)\n",
        "\n",
        "* Сайт с товарами/книгами/фильмами: текстовый столбец — описание товара/книги/фильма; признаки — различные характеристики объекта: цена, год производства/выпуска, компания-производитель и т.д.; целевая переменная — средний рейтинг объекта\n",
        "\n",
        "* Блоги: текстовый столбец — тексты заметок; признаки — различные характеристики заметки: автор, время публикации, количество прикрепленных изображений и т.д.; целевая переменная — число просмотров\n",
        "\n",
        "* И любые другие ваши идеи, которые подходят под описанный выше формат"
      ]
    },
    {
      "cell_type": "markdown",
      "metadata": {
        "id": "VRotK-nXRsGn"
      },
      "source": [
        "После сбора данных и объединения их в общий датасет, необходимо очистить его от мусора (в том числе, например, с помощью регулярных выражений); посчитать различные статистики по собранным данным (в случае если столбец текстовый, то, например, посчитать частотности слов, выявляя наиболее частотные слова, и т.д.); а также в целом провести EDA в контексте той бизнес-задачи, которую мы потенциально хотим решить по полученному датасету. В конце сделать выводы из проделанной работы."
      ]
    },
    {
      "cell_type": "markdown",
      "metadata": {
        "id": "jw2I5j46xsrG"
      },
      "source": [
        "### Этапы проекта"
      ]
    },
    {
      "cell_type": "markdown",
      "metadata": {
        "id": "kO_bjLfWxvdV"
      },
      "source": [
        "Ниже для вашего удобства еще раз в краткой форме представляем примерные этапы реализации проекта:\n",
        "\n",
        "- Выбор источников данных, в соответствии с требованиями, описанными выше\n",
        "- Формулировка бизнес-задачи, которую могла бы хотеть решить компания/платформа, на основе собираемых данных\n",
        "- Обоснование сформулированной бизнес-задачи\n",
        "- Извлечение данных путём работы с API\n",
        "- Извлечение данных путём скрапинга и парсинга\n",
        "- Первичная обработка данных (EDA)\n",
        "- Получение и агрегация результатов, финальные выводы"
      ]
    },
    {
      "cell_type": "markdown",
      "metadata": {
        "id": "Yf_5kM7K6XPn"
      },
      "source": [
        "### Общие требования к проекту"
      ]
    },
    {
      "cell_type": "markdown",
      "metadata": {
        "id": "coqxjUJY4D4B"
      },
      "source": [
        "В качестве результата выполнения группового проекта ваша команда должна получить презентацию, а также репозиторий с кодом на GitHub. Демонстрация репозитория и защита презентации перед комиссией осуществляется в фиксированную дату.\n",
        "\n",
        "Оформление презентации остаётся полностью на ваше усмотрение, но помните, что результат должен быть релевантен для демонстрации бизнес-заказчику — комиссию, принимающую вашу работу, правильнее всего воспринимать именно в таком качестве. Например, вставлять в презентацию строчки кода или злоупотреблять скринами блокнота не рекомендуется.\n",
        "\n",
        "С точки зрения концепции выполнения проекта — вам необходимо принять на себя роль дата-инженеров: продумать идеологию получения и извлечения данных с платформы — и дата-аналитиков: соотнести бизнес-задачу с формулировками на языке данных и извлечь полезные инсайты из проделанной работы. А в конце, конечно, — презентовать всю эту красоту в понятном виде потенциальному заказчику.\n",
        "\n",
        "Разумеется, чем сложнее и чем нетривиальнее будет ваша задача, а также чем глубже и чем осмысленнее будут выводы, извлечённые в рамках этой задачи, — тем выше окажется качество вашего проекта и тем выше он будет оценён!\n"
      ]
    },
    {
      "cell_type": "markdown",
      "metadata": {
        "id": "BIMqig8J-cWl"
      },
      "source": [
        "### Полезные замечания и советы"
      ]
    },
    {
      "cell_type": "markdown",
      "metadata": {
        "id": "myYUHrtD-gcj"
      },
      "source": [
        "- Графики и визуализации — это очень хорошо — все любят графики\n",
        "- Следите за тем, чтобы все графики на слайдах можно было прочитать даже без ваших комментариев\n",
        "- Не нужно делать просто текстовые слайды\n",
        "- Стройте свой проект, исходя из того, что ваша цель представить полезную информацию для бизнеса\n",
        "- Любой хороший Data Scientist должен уметь работать в команде, поэтому распределение ваших усилий в проекте остается за вами"
      ]
    },
    {
      "cell_type": "markdown",
      "metadata": {
        "id": "vVNkvwUpQ29a"
      },
      "source": [
        "### Технические требования"
      ]
    },
    {
      "cell_type": "markdown",
      "metadata": {
        "id": "xzVkvsfiRAMi"
      },
      "source": [
        "Ниже чуть более детализированно будут представлены минимальные технические требования по всем основным этапам и составным частям выполняемого вами группового проекта."
      ]
    },
    {
      "cell_type": "markdown",
      "metadata": {
        "id": "wqiq25koghg4"
      },
      "source": [
        "#### Обязательный сбор данных через API"
      ]
    },
    {
      "cell_type": "markdown",
      "metadata": {
        "id": "j4qH0SBNgmJs"
      },
      "source": [
        "* Необходимо реализовать сбор данных через API для как минимум одного веб-сайта\n",
        "* При формировании датасета должно осуществляться **не менее 5** различных запросов к API\n",
        "* Данный этап является обязательным, что означает, что без его полного выполнения ***нельзя получить оценку за проект выше 1***\n"
      ]
    },
    {
      "cell_type": "markdown",
      "metadata": {
        "id": "rgOAXjwMg1y3"
      },
      "source": [
        "#### Обязательный сбор данных посредством скрапинга"
      ]
    },
    {
      "cell_type": "markdown",
      "metadata": {
        "id": "Hw8T5Maig8NC"
      },
      "source": [
        "* Необходимо реализовать сбор и парсинг данных через библиотеки `requests` / `bs4` и другие рассмотренные в рамках семинара для как минимум одного веб-сайта, отличного от веб-сайта из предыдущего пункта\n",
        "* Получившийся датасет должен содержать **не менее 10 000** записей\n",
        "* Данный этап является обязательным, что означает, что без его полного выполнения ***нельзя получить оценку за проект выше 1***"
      ]
    },
    {
      "cell_type": "markdown",
      "metadata": {
        "id": "PZjO7mB-h20v"
      },
      "source": [
        "#### Разведочный анализ данных (EDA)"
      ]
    },
    {
      "cell_type": "markdown",
      "metadata": {
        "id": "IrRFEOlBh9g-"
      },
      "source": [
        "* Изучить особенности данных в рамках объединённого датасета:\n",
        "  * Есть ли пропущенные значения? Сколько? Какова их доля от общего числа объектов для каждого конкретного признака? И, в целом, насколько ваш датасет “разрежен” в контексте пропущенных значений? Выдвинуть и (желательно) проверить гипотезу, что могут означать пропущенные значения? Осмысленно и аргументированно обработать пропуски.\n",
        "  * Есть ли ошибочные  (например, отрицательный возраст или пятиметровый рост человека; 3-й класс в задаче бинарной классификации) значения (признаки, целевая переменная) в данных? Обработать их.\n",
        "  * Есть ли выбросы в данных? По возможности обработать их.\n",
        "* Изучить поведение каждого признака в отдельности, его связь с целевой переменной, а также попарные корреляции (в том числе и в особенности с таргетом). Визуализировать попарные распределения признаков и корреляции наиболее значимых.\n",
        "* Построить подходящие сводные таблицы и прочие диаграммы.\n",
        "* Если проведенный вами анализ позволяет сделать какие-либо выводы, постараться сформулировать их максимально глубоко и развернуто. Упомянуть, как можно задействовать в дальнейшем приобретенные вами на этом этапе знания в решаемой задаче.\n",
        "* Осуществить и другие осмысленные действия в рамках процесса EDA.\n"
      ]
    },
    {
      "cell_type": "markdown",
      "metadata": {
        "id": "kXQoZKXnS_kj"
      },
      "source": [
        "#### GitHub и требования при использовании СКВ"
      ]
    },
    {
      "cell_type": "markdown",
      "metadata": {
        "id": "VUobb1cEUlpB"
      },
      "source": [
        "*   Для выполнения задания вы должны создать проект на GitHub (один репозиторий на всю команду!)\n",
        "*   Необходимо добавить в репозиторий `.gitignore` и не грузить в репозиторий лишние файлы\n",
        "*   Необходимо добавить в репозиторий `README.md` с подробным описанием проекта. В этот файл также необходимо добавить подробное описание данных — описание признаков, их тип, количество объектов каждого класса (в задачах классификации), информацию о пропущенных значениях (в т.ч о типичных филлерах, если это не `nan`). Также добавляйте другие релевантные вашей задачи описательные характеристики данных. После чтения этого файла у человека со стороны не должно остаться никаких вопросов про данные\n",
        "*   В репозитории проекта размещаются ноутбуки / скрипты со сбором данных\n",
        "*   Коммиты делаются осмысленно, с понятными внешнему наблюдателю комментариями — что было сделано по факту\n",
        "*   При разработке необходимо соблюдать [гитфлоу](https://www.umgum.com/gitlab-workflow)"
      ]
    },
    {
      "cell_type": "markdown",
      "metadata": {
        "id": "LQSfM5wXkaV_"
      },
      "source": [
        "#### Артефакты по окончании работы над проектом"
      ]
    },
    {
      "cell_type": "markdown",
      "metadata": {
        "id": "6g9-UE3skdOw"
      },
      "source": [
        "* Ноутбуки / скрипты со сбором и извлечением данных\n",
        "* Ноутбуки c осуществлением EDA\n",
        "* Файл `.gitignore`\n",
        "* Заполненный файл `README.md` в репозитории проекта на гитхабе со ссылкой на данные и их подробным описанием, с выводами о проведенном EDA\n",
        "\n"
      ]
    },
    {
      "cell_type": "markdown",
      "metadata": {
        "id": "IOAMSmAyVs-w"
      },
      "source": [
        "#### Логирование"
      ]
    },
    {
      "cell_type": "markdown",
      "metadata": {
        "id": "ACU-GJX4VzCM"
      },
      "source": [
        "* Для получения высоких баллов добавьте в ваш проект логирование. Потренируйтесь включать и выключать его через файл настроек, а также задавать уровень логирования через этот же файл (не в приложении)\n",
        "* Запустите ваш код, чтобы сохранился файл с логами\n",
        "* Про логи можно почитать [тут](https://habr.com/ru/companies/wunderfund/articles/683880/) и [тут](https://tproger.ru/articles/shpargalka-po-logirovaniju-na-python)  "
      ]
    },
    {
      "cell_type": "markdown",
      "metadata": {
        "id": "HeMwqtMoWOZy"
      },
      "source": [
        "#### Библиотека Selenium"
      ]
    },
    {
      "cell_type": "markdown",
      "metadata": {
        "id": "Vmr095KHWPgn"
      },
      "source": [
        "* Для получения высоких баллов используйте библиотеку Selenium при сборе данных\n",
        "* Реализуйте имитацию работы пользователя через Selenium\n",
        "* Про данную библиотеку можно почитать [тут](https://habr.com/ru/companies/selectel/articles/754674/) и [тут](https://happypython.ru/2022/11/27/selenium-chromedriver-find-elements/)"
      ]
    },
    {
      "cell_type": "markdown",
      "metadata": {
        "id": "nUgPW81IAl8k"
      },
      "source": [
        "## Критерии оценки проекта"
      ]
    },
    {
      "cell_type": "markdown",
      "metadata": {
        "id": "kPjYuWD_BX7C"
      },
      "source": [
        "Оценка за групповой проект в целом — то есть первая из двух оценок — выставляется по 10 балльной шкале, исходя из 3 критериев. Также комиссия на своё усмотрение может добавить (но не снизить) некоторое количество бонусных баллов за рамками данных критериев.\n",
        "\n",
        "Каждый из критериев будет перечислен и рассмотрен ниже."
      ]
    },
    {
      "cell_type": "markdown",
      "metadata": {
        "id": "lGGI5KRrCL5r"
      },
      "source": [
        "### Критерий 1. Выбор задачи и EDA (до 3,5 баллов)\n",
        "\n",
        "Данный критерий оценивает, насколько обоснованной и осмысленной получилась решаемая бизнес-задача; насколько полно был осуществлен переход от бизнес-задачи к пайплайну подготовки данных (насколько в реальности формируемый датасет соответствует исходной постановке задачи с точки зрения интересов компании и насколько может помочь в решении такой задачи); а также насколько корректными, объёмными и прикладными для бизнеса получились выявленные в ходе исследования инсайты."
      ]
    },
    {
      "cell_type": "markdown",
      "metadata": {
        "id": "DtcgCZ3FmZL-"
      },
      "source": [
        "### Критерий 2. GitHub (до 1 балла)\n",
        "\n",
        "Данный критерий оценивает, насколько корректным и квалифицированным было применение средств системы контроля версий в проекте; насколько были выполнены представленные в задании требования по всем необходимым файлам и условиям в рамках работы с GitHub; а также насколько эффективно данная система в действительности использовалась командой для распараллеливания задач по проекту."
      ]
    },
    {
      "cell_type": "markdown",
      "metadata": {
        "id": "GzH0e3v6DIsM"
      },
      "source": [
        "### Критерий 3. Инструменты извлечения данных (до 5,5 баллов)\n",
        "\n",
        "Данный критерий оценивает техническую реализацию процесса сбора данных автоматизированным образом с сайтов и порталов. В рамках этого критерия будет рассматриваться спектр различных технических инструментов, внедрённых в проект; корректность, эффективность и правильность их применения; а также сложность и новизна алгоритмов, подходов и библиотек, применяемых к данным.\n",
        "\n",
        "*__Важно:__ в случае оценки __1 балл и ниже__ за этот критерий — оценка за весь проект становится равна оценке за этот критерий.*\n",
        "\n",
        "*По данному критерию можно получить __больше 1 балла__ только при условии применения как средств Data Scraping (автоматического считывания HTML-кода страниц с последующей его обработкой), так и средств API (получению данных с использованием официальных протоколов компании/портала). При этом средства Scraping и API следует применять к разным компаниям/порталам, но представленным в рамках одной и той же предметной области (бизнес-задачи).*\n",
        "\n",
        "*По данному критерию можно получить **3 балла и выше** только при условии использования в проекте логирования __ИЛИ__ библиотеки Selenium.*\n",
        "\n",
        "*По данному критерию можно получить **4 балла и выше** только при условии использования в проекте логирования __И__ библиотеки Selenium.*\n",
        "\n",
        "*По данному критерию можно получить **5 баллов и выше** только при условии использования в проекте логирования, библиотеки Selenium и, кроме этого, обоснованного применения дополнительных инструментов/подходов/библиотек, не упомянутых ранее в этом ноутбуке и не рассматривавшихся в рамках соответствующего семинара.*"
      ]
    },
    {
      "cell_type": "code",
      "execution_count": null,
      "metadata": {
        "colab": {
          "base_uri": "https://localhost:8080/"
        },
        "collapsed": true,
        "id": "dqNRaGpzi3N1",
        "outputId": "a6a5f02d-9d35-4a33-9335-cb061ea16483"
      },
      "outputs": [
        {
          "output_type": "stream",
          "name": "stdout",
          "text": [
            "Collecting selenium\n",
            "  Downloading selenium-4.29.0-py3-none-any.whl.metadata (7.1 kB)\n",
            "Requirement already satisfied: urllib3<3,>=1.26 in /usr/local/lib/python3.11/dist-packages (from urllib3[socks]<3,>=1.26->selenium) (2.3.0)\n",
            "Collecting trio~=0.17 (from selenium)\n",
            "  Downloading trio-0.29.0-py3-none-any.whl.metadata (8.5 kB)\n",
            "Collecting trio-websocket~=0.9 (from selenium)\n",
            "  Downloading trio_websocket-0.12.2-py3-none-any.whl.metadata (5.1 kB)\n",
            "Requirement already satisfied: certifi>=2021.10.8 in /usr/local/lib/python3.11/dist-packages (from selenium) (2025.1.31)\n",
            "Requirement already satisfied: typing_extensions~=4.9 in /usr/local/lib/python3.11/dist-packages (from selenium) (4.12.2)\n",
            "Requirement already satisfied: websocket-client~=1.8 in /usr/local/lib/python3.11/dist-packages (from selenium) (1.8.0)\n",
            "Requirement already satisfied: attrs>=23.2.0 in /usr/local/lib/python3.11/dist-packages (from trio~=0.17->selenium) (25.1.0)\n",
            "Requirement already satisfied: sortedcontainers in /usr/local/lib/python3.11/dist-packages (from trio~=0.17->selenium) (2.4.0)\n",
            "Requirement already satisfied: idna in /usr/local/lib/python3.11/dist-packages (from trio~=0.17->selenium) (3.10)\n",
            "Collecting outcome (from trio~=0.17->selenium)\n",
            "  Downloading outcome-1.3.0.post0-py2.py3-none-any.whl.metadata (2.6 kB)\n",
            "Requirement already satisfied: sniffio>=1.3.0 in /usr/local/lib/python3.11/dist-packages (from trio~=0.17->selenium) (1.3.1)\n",
            "Collecting wsproto>=0.14 (from trio-websocket~=0.9->selenium)\n",
            "  Downloading wsproto-1.2.0-py3-none-any.whl.metadata (5.6 kB)\n",
            "Requirement already satisfied: pysocks!=1.5.7,<2.0,>=1.5.6 in /usr/local/lib/python3.11/dist-packages (from urllib3[socks]<3,>=1.26->selenium) (1.7.1)\n",
            "Requirement already satisfied: h11<1,>=0.9.0 in /usr/local/lib/python3.11/dist-packages (from wsproto>=0.14->trio-websocket~=0.9->selenium) (0.14.0)\n",
            "Downloading selenium-4.29.0-py3-none-any.whl (9.5 MB)\n",
            "\u001b[2K   \u001b[90m━━━━━━━━━━━━━━━━━━━━━━━━━━━━━━━━━━━━━━━━\u001b[0m \u001b[32m9.5/9.5 MB\u001b[0m \u001b[31m48.8 MB/s\u001b[0m eta \u001b[36m0:00:00\u001b[0m\n",
            "\u001b[?25hDownloading trio-0.29.0-py3-none-any.whl (492 kB)\n",
            "\u001b[2K   \u001b[90m━━━━━━━━━━━━━━━━━━━━━━━━━━━━━━━━━━━━━━━━\u001b[0m \u001b[32m492.9/492.9 kB\u001b[0m \u001b[31m28.2 MB/s\u001b[0m eta \u001b[36m0:00:00\u001b[0m\n",
            "\u001b[?25hDownloading trio_websocket-0.12.2-py3-none-any.whl (21 kB)\n",
            "Downloading outcome-1.3.0.post0-py2.py3-none-any.whl (10 kB)\n",
            "Downloading wsproto-1.2.0-py3-none-any.whl (24 kB)\n",
            "Installing collected packages: wsproto, outcome, trio, trio-websocket, selenium\n",
            "Successfully installed outcome-1.3.0.post0 selenium-4.29.0 trio-0.29.0 trio-websocket-0.12.2 wsproto-1.2.0\n",
            "Hit:1 http://archive.ubuntu.com/ubuntu jammy InRelease\n",
            "Get:2 http://archive.ubuntu.com/ubuntu jammy-updates InRelease [128 kB]\n",
            "Get:3 https://cloud.r-project.org/bin/linux/ubuntu jammy-cran40/ InRelease [3,632 B]\n",
            "Get:4 http://security.ubuntu.com/ubuntu jammy-security InRelease [129 kB]\n",
            "Get:5 http://archive.ubuntu.com/ubuntu jammy-backports InRelease [127 kB]\n",
            "Get:6 https://developer.download.nvidia.com/compute/cuda/repos/ubuntu2204/x86_64  InRelease [1,581 B]\n",
            "Get:7 https://r2u.stat.illinois.edu/ubuntu jammy InRelease [6,555 B]\n",
            "Hit:8 https://ppa.launchpadcontent.net/deadsnakes/ppa/ubuntu jammy InRelease\n",
            "Hit:9 https://ppa.launchpadcontent.net/graphics-drivers/ppa/ubuntu jammy InRelease\n",
            "Get:10 http://archive.ubuntu.com/ubuntu jammy-updates/main amd64 Packages [2,988 kB]\n",
            "Hit:11 https://ppa.launchpadcontent.net/ubuntugis/ppa/ubuntu jammy InRelease\n",
            "Get:12 http://archive.ubuntu.com/ubuntu jammy-updates/universe amd64 Packages [1,533 kB]\n",
            "Get:13 http://archive.ubuntu.com/ubuntu jammy-updates/restricted amd64 Packages [3,891 kB]\n",
            "Get:14 https://developer.download.nvidia.com/compute/cuda/repos/ubuntu2204/x86_64  Packages [1,338 kB]\n",
            "Get:15 https://r2u.stat.illinois.edu/ubuntu jammy/main all Packages [8,712 kB]\n",
            "Get:16 https://r2u.stat.illinois.edu/ubuntu jammy/main amd64 Packages [2,666 kB]\n",
            "Get:17 http://security.ubuntu.com/ubuntu jammy-security/universe amd64 Packages [1,235 kB]\n",
            "Get:18 http://security.ubuntu.com/ubuntu jammy-security/main amd64 Packages [2,652 kB]\n",
            "Get:19 http://security.ubuntu.com/ubuntu jammy-security/restricted amd64 Packages [3,694 kB]\n",
            "Fetched 29.1 MB in 6s (5,094 kB/s)\n",
            "Reading package lists... Done\n",
            "W: Skipping acquire of configured file 'main/source/Sources' as repository 'https://r2u.stat.illinois.edu/ubuntu jammy InRelease' does not seem to provide it (sources.list entry misspelt?)\n",
            "Reading package lists... Done\n",
            "Building dependency tree... Done\n",
            "Reading state information... Done\n",
            "Note, selecting 'chromium-chromedriver' instead of 'chromium-driver'\n",
            "The following additional packages will be installed:\n",
            "  apparmor chromium-browser libfuse3-3 liblzo2-2 snapd squashfs-tools systemd-hwe-hwdb udev\n",
            "Suggested packages:\n",
            "  apparmor-profiles-extra apparmor-utils fuse3 zenity | kdialog\n",
            "The following NEW packages will be installed:\n",
            "  apparmor chromium-browser chromium-chromedriver libfuse3-3 liblzo2-2 snapd squashfs-tools\n",
            "  systemd-hwe-hwdb udev\n",
            "0 upgraded, 9 newly installed, 0 to remove and 45 not upgraded.\n",
            "Need to get 30.1 MB of archives.\n",
            "After this operation, 123 MB of additional disk space will be used.\n",
            "Get:1 http://archive.ubuntu.com/ubuntu jammy-updates/main amd64 apparmor amd64 3.0.4-2ubuntu2.4 [598 kB]\n",
            "Get:2 http://archive.ubuntu.com/ubuntu jammy/main amd64 liblzo2-2 amd64 2.10-2build3 [53.7 kB]\n",
            "Get:3 http://archive.ubuntu.com/ubuntu jammy/main amd64 squashfs-tools amd64 1:4.5-3build1 [159 kB]\n",
            "Get:4 http://archive.ubuntu.com/ubuntu jammy-updates/main amd64 udev amd64 249.11-0ubuntu3.12 [1,557 kB]\n",
            "Get:5 http://archive.ubuntu.com/ubuntu jammy/main amd64 libfuse3-3 amd64 3.10.5-1build1 [81.2 kB]\n",
            "Get:6 http://archive.ubuntu.com/ubuntu jammy-updates/main amd64 snapd amd64 2.66.1+22.04 [27.6 MB]\n",
            "Get:7 http://archive.ubuntu.com/ubuntu jammy-updates/universe amd64 chromium-browser amd64 1:85.0.4183.83-0ubuntu2.22.04.1 [49.2 kB]\n",
            "Get:8 http://archive.ubuntu.com/ubuntu jammy-updates/universe amd64 chromium-chromedriver amd64 1:85.0.4183.83-0ubuntu2.22.04.1 [2,308 B]\n",
            "Get:9 http://archive.ubuntu.com/ubuntu jammy-updates/main amd64 systemd-hwe-hwdb all 249.11.5 [3,228 B]\n",
            "Fetched 30.1 MB in 1s (43.8 MB/s)\n",
            "Preconfiguring packages ...\n",
            "Selecting previously unselected package apparmor.\n",
            "(Reading database ... 124947 files and directories currently installed.)\n",
            "Preparing to unpack .../0-apparmor_3.0.4-2ubuntu2.4_amd64.deb ...\n",
            "Unpacking apparmor (3.0.4-2ubuntu2.4) ...\n",
            "Selecting previously unselected package liblzo2-2:amd64.\n",
            "Preparing to unpack .../1-liblzo2-2_2.10-2build3_amd64.deb ...\n",
            "Unpacking liblzo2-2:amd64 (2.10-2build3) ...\n",
            "Selecting previously unselected package squashfs-tools.\n",
            "Preparing to unpack .../2-squashfs-tools_1%3a4.5-3build1_amd64.deb ...\n",
            "Unpacking squashfs-tools (1:4.5-3build1) ...\n",
            "Selecting previously unselected package udev.\n",
            "Preparing to unpack .../3-udev_249.11-0ubuntu3.12_amd64.deb ...\n",
            "Unpacking udev (249.11-0ubuntu3.12) ...\n",
            "Selecting previously unselected package libfuse3-3:amd64.\n",
            "Preparing to unpack .../4-libfuse3-3_3.10.5-1build1_amd64.deb ...\n",
            "Unpacking libfuse3-3:amd64 (3.10.5-1build1) ...\n",
            "Selecting previously unselected package snapd.\n",
            "Preparing to unpack .../5-snapd_2.66.1+22.04_amd64.deb ...\n",
            "Unpacking snapd (2.66.1+22.04) ...\n",
            "Setting up apparmor (3.0.4-2ubuntu2.4) ...\n",
            "Created symlink /etc/systemd/system/sysinit.target.wants/apparmor.service → /lib/systemd/system/apparmor.service.\n",
            "Setting up liblzo2-2:amd64 (2.10-2build3) ...\n",
            "Setting up squashfs-tools (1:4.5-3build1) ...\n",
            "Setting up udev (249.11-0ubuntu3.12) ...\n",
            "invoke-rc.d: could not determine current runlevel\n",
            "invoke-rc.d: policy-rc.d denied execution of start.\n",
            "Setting up libfuse3-3:amd64 (3.10.5-1build1) ...\n",
            "Setting up snapd (2.66.1+22.04) ...\n",
            "Created symlink /etc/systemd/system/multi-user.target.wants/snapd.apparmor.service → /lib/systemd/system/snapd.apparmor.service.\n",
            "Created symlink /etc/systemd/system/multi-user.target.wants/snapd.autoimport.service → /lib/systemd/system/snapd.autoimport.service.\n",
            "Created symlink /etc/systemd/system/multi-user.target.wants/snapd.core-fixup.service → /lib/systemd/system/snapd.core-fixup.service.\n",
            "Created symlink /etc/systemd/system/multi-user.target.wants/snapd.recovery-chooser-trigger.service → /lib/systemd/system/snapd.recovery-chooser-trigger.service.\n",
            "Created symlink /etc/systemd/system/multi-user.target.wants/snapd.seeded.service → /lib/systemd/system/snapd.seeded.service.\n",
            "Created symlink /etc/systemd/system/cloud-final.service.wants/snapd.seeded.service → /lib/systemd/system/snapd.seeded.service.\n",
            "Unit /lib/systemd/system/snapd.seeded.service is added as a dependency to a non-existent unit cloud-final.service.\n",
            "Created symlink /etc/systemd/system/multi-user.target.wants/snapd.service → /lib/systemd/system/snapd.service.\n",
            "Created symlink /etc/systemd/system/timers.target.wants/snapd.snap-repair.timer → /lib/systemd/system/snapd.snap-repair.timer.\n",
            "Created symlink /etc/systemd/system/sockets.target.wants/snapd.socket → /lib/systemd/system/snapd.socket.\n",
            "Created symlink /etc/systemd/system/final.target.wants/snapd.system-shutdown.service → /lib/systemd/system/snapd.system-shutdown.service.\n",
            "Selecting previously unselected package chromium-browser.\n",
            "(Reading database ... 125384 files and directories currently installed.)\n",
            "Preparing to unpack .../chromium-browser_1%3a85.0.4183.83-0ubuntu2.22.04.1_amd64.deb ...\n",
            "=> Installing the chromium snap\n",
            "==> Checking connectivity with the snap store\n",
            "===> System doesn't have a working snapd, skipping\n",
            "Unpacking chromium-browser (1:85.0.4183.83-0ubuntu2.22.04.1) ...\n",
            "Selecting previously unselected package chromium-chromedriver.\n",
            "Preparing to unpack .../chromium-chromedriver_1%3a85.0.4183.83-0ubuntu2.22.04.1_amd64.deb ...\n",
            "Unpacking chromium-chromedriver (1:85.0.4183.83-0ubuntu2.22.04.1) ...\n",
            "Selecting previously unselected package systemd-hwe-hwdb.\n",
            "Preparing to unpack .../systemd-hwe-hwdb_249.11.5_all.deb ...\n",
            "Unpacking systemd-hwe-hwdb (249.11.5) ...\n",
            "Setting up systemd-hwe-hwdb (249.11.5) ...\n",
            "Setting up chromium-browser (1:85.0.4183.83-0ubuntu2.22.04.1) ...\n",
            "update-alternatives: using /usr/bin/chromium-browser to provide /usr/bin/x-www-browser (x-www-browser) in auto mode\n",
            "update-alternatives: using /usr/bin/chromium-browser to provide /usr/bin/gnome-www-browser (gnome-www-browser) in auto mode\n",
            "Setting up chromium-chromedriver (1:85.0.4183.83-0ubuntu2.22.04.1) ...\n",
            "Processing triggers for udev (249.11-0ubuntu3.12) ...\n",
            "Processing triggers for mailcap (3.70+nmu1ubuntu1) ...\n",
            "Processing triggers for hicolor-icon-theme (0.17-2) ...\n",
            "Processing triggers for libc-bin (2.35-0ubuntu3.8) ...\n",
            "/sbin/ldconfig.real: /usr/local/lib/libtbbbind.so.3 is not a symbolic link\n",
            "\n",
            "/sbin/ldconfig.real: /usr/local/lib/libtbbbind_2_0.so.3 is not a symbolic link\n",
            "\n",
            "/sbin/ldconfig.real: /usr/local/lib/libtcm_debug.so.1 is not a symbolic link\n",
            "\n",
            "/sbin/ldconfig.real: /usr/local/lib/libur_adapter_level_zero.so.0 is not a symbolic link\n",
            "\n",
            "/sbin/ldconfig.real: /usr/local/lib/libhwloc.so.15 is not a symbolic link\n",
            "\n",
            "/sbin/ldconfig.real: /usr/local/lib/libur_adapter_opencl.so.0 is not a symbolic link\n",
            "\n",
            "/sbin/ldconfig.real: /usr/local/lib/libtbb.so.12 is not a symbolic link\n",
            "\n",
            "/sbin/ldconfig.real: /usr/local/lib/libtbbbind_2_5.so.3 is not a symbolic link\n",
            "\n",
            "/sbin/ldconfig.real: /usr/local/lib/libtcm.so.1 is not a symbolic link\n",
            "\n",
            "/sbin/ldconfig.real: /usr/local/lib/libumf.so.0 is not a symbolic link\n",
            "\n",
            "/sbin/ldconfig.real: /usr/local/lib/libur_loader.so.0 is not a symbolic link\n",
            "\n",
            "/sbin/ldconfig.real: /usr/local/lib/libtbbmalloc_proxy.so.2 is not a symbolic link\n",
            "\n",
            "/sbin/ldconfig.real: /usr/local/lib/libtbbmalloc.so.2 is not a symbolic link\n",
            "\n",
            "Processing triggers for man-db (2.10.2-1) ...\n",
            "Processing triggers for dbus (1.12.20-2ubuntu4.1) ...\n"
          ]
        }
      ],
      "source": [
        "!pip install selenium\n",
        "!apt-get update\n",
        "!apt-get install chromium-driver\n",
        "import selenium\n",
        "from selenium.webdriver.common.action_chains import ActionChains\n",
        "from selenium import webdriver as wd\n",
        "from selenium.webdriver.common.by import By\n",
        "from selenium.webdriver.chrome.service import Service as ChromeService\n",
        "from selenium.webdriver.support.ui import WebDriverWait\n",
        "from selenium.webdriver.support import expected_conditions as EC\n",
        "import time\n",
        "from bs4 import BeautifulSoup\n",
        "import requests\n",
        "import pandas as pd\n",
        "import logging"
      ]
    },
    {
      "cell_type": "code",
      "execution_count": null,
      "metadata": {
        "id": "fWFXfNf2-Sk7"
      },
      "outputs": [],
      "source": [
        "logging.basicConfig(level=logging.INFO, filename=\"py_log.log\", filemode=\"w\", format=\"%(asctime)s %(levelname)s %(message)s\", force=True)\n",
        "#прописываем стандартные настройки логирования\n",
        "\n",
        "options = wd.ChromeOptions()\n",
        "options.add_argument(\"--verbose\")\n",
        "options.add_argument('--no-sandbox')\n",
        "options.add_argument('--headless')\n",
        "options.add_argument('--disable-gpu')\n",
        "options.add_argument(\"--window-size=1920, 1200\")\n",
        "options.add_argument('--disable-dev-shm-usage')\n",
        "user_agent = 'Mozilla/5.0 (X11; Linux x86_64) AppleWebKit/537.36 (KHTML, like Gecko) Chrome/60.0.3112.50 Safari/537.36'\n",
        "options.add_argument(f'user-agent={user_agent}')\n",
        "options.add_argument('--allow-running-insecure-content')\n",
        "#все что выше- код из 10 источников просто чтобы в этом коллабе нормально запускался хром и парсер начинал работать\n",
        "browser = wd.Chrome(options=options)\n",
        "\n",
        "\n",
        "url = \"https://www.imdb.com/search/title/?title_type=feature,tv_movie,tv_special,video,tv_series,tv_miniseries&interests=in0000027&sort=alpha,asc\"\n",
        "browser.get(url) #говорим парсеру открыть эту страницу\n",
        "logging.info(\"successful link click\") #все строчки с logging - логирование процесса в файл. где info- наша информация, а error - ошибки\n",
        "time.sleep(3) #на всякий ждем чтоб она прогрузилась\n",
        "\n",
        "while True: #запускаем бесконечный цикл для полной прогрузки страницы, поскольку за раз сайт выдает по 50 тайтлов.\n",
        "    try: #пытаемся найти кнопку прогрузки следующих 50-ти тайтлов\n",
        "        find_more_elem = browser.find_element(By.CLASS_NAME, \"ipc-see-more__button\")\n",
        "\n",
        "        actions = ActionChains(browser) #если таковая есть то создаем действие\n",
        "        actions.move_to_element(find_more_elem).perform() #прокручиваем экран к этой кнопке\n",
        "        try:\n",
        "            WebDriverWait(browser, 10).until(EC.element_to_be_clickable((By.CLASS_NAME, \"ipc-see-more__button\"))).click() #пытаемся нажать на кнопку дозагрузки тайтлов\n",
        "        except Exception as _ex: #если не получилось кликнуть то говорим об этом\n",
        "            logging.exception(f'TimeoutException \\n{_ex}')\n",
        "        time.sleep(2) #даем время прогрузиться\n",
        "    except: #иначе кнопки нет, а значит мы прогрузили все тайтлы и можем выходить  из цикла\n",
        "        logging.info(\"successful loading of the entire site\") #сообщение об успешном скролле всего сайта\n",
        "        break\n",
        "\n",
        "soup = BeautifulSoup(browser.page_source, 'lxml') #грузим код страницы для удобной работы с ним\n",
        "browser.close()\n",
        "browser.quit()\n",
        "logging.info(\"successful loading of the page code\") #сообщение об успешной загрузке кода страницы\n",
        "strings = [] #создаем список, в который будем добавлять информацию по всем тайтлам\n",
        "try:\n",
        "    items = soup.find_all('div', {'class' : 'sc-e2db8066-1'}) #в коде страницы находим все теги, в которых распологается инфа по тайтлам\n",
        "except:\n",
        "    logging.error('error in the search for site elements') #ошибка при поиске элементов сайта\n",
        "\n",
        "for item in items: #отдельно проходим по каждому найденному тайтлу\n",
        "\n",
        "    string = [] #создаем список чтобы добавлять всю информацию по каждому тайтлу\n",
        "    try: #название\n",
        "        string.append(''.join(item.find('h3', {'class' : 'ipc-title__text'}).text.split('.')[1:]).strip()) #поскольку в названии также есть и порядковый номер, то из тега h3 достаем название и с помощью split и join убираем номер и оставляем только название\n",
        "    except: #иначе мы не нашли такого тега => нет названия (с другими аналогично)\n",
        "        string.append('Not found')\n",
        "\n",
        "    try: #рейтинг\n",
        "        string.append(item.find('span', {'class' : 'ipc-rating-star--rating'}).text)\n",
        "    except:\n",
        "        string.append('Not found')\n",
        "\n",
        "    try: #отзывы\n",
        "        string.append(item.find('span', {'class' : 'ipc-rating-star--voteCount'}).text)\n",
        "    except:\n",
        "        string.append('Not found')\n",
        "\n",
        "    try: #описание\n",
        "        string.append(item.find('div', {'class' : 'ipc-html-content-inner-div'}).text)\n",
        "    except:\n",
        "        string.append('Not found')\n",
        "\n",
        "    #доп инфа, тут интересней. поскольку инфа про год, рейтинг и время непостоянная и находится в одних и тех же тегах, нужно вручную проверять наличие каждого из них\n",
        "    dop_items = item.find('div', {'class' : 'sc-d5ea4b9d-6'})\n",
        "    if dop_items: #если у нас присутствует тег, в котором лежит вся доп инфа\n",
        "        dop_info = dop_items.find_all('span') #достаем эти теги\n",
        "        #поскольку всего их может быть 3 и они всегда идут в порядке: год выпуска, время, рейтинг, то мы делаем такую проверку\n",
        "        if len(dop_info) == 1: #если у нас только один тег, то это априоре год выпуска, значит остальной инфы нет\n",
        "            string.append(dop_items.find('span').text)\n",
        "            string.append('Not found')\n",
        "            string.append('Not found')\n",
        "        elif len(dop_info) == 2: #иначе у нас их 2. первый это точно год выпуска, второй нужно выяснить\n",
        "            string.append(dop_info[0].text)\n",
        "            if '-' in dop_info[1].text: # знак '-' есть только у рейтинга, поэтоу если он есть, то добавляем его, а времени нету, его пропускаем\n",
        "                string.append('Not found')\n",
        "                string.append(dop_info[1].text)\n",
        "            else: #если знака '-' нет, тогда вторым тегом было время\n",
        "                string.append(dop_info[1].text)\n",
        "                string.append('Not found')\n",
        "        else: #иначе у нас есть все 3 тега и мы их добавляем\n",
        "                string.append(dop_info[0].text)\n",
        "                string.append(dop_info[1].text)\n",
        "                string.append(dop_info[2].text)\n",
        "    else: #иначе нет никакой доп инфы и мы ее пропускаем\n",
        "        string.append('Not found')\n",
        "        string.append('Not found')\n",
        "        string.append('Not found')\n",
        "\n",
        "\n",
        "    strings.append(string) #добавляем инфу по полученному тайтлу в список всех тайтлов\n",
        "\n",
        "#сохранение в формат excel\n",
        "#создаем через библиотеку pandas таблицу, в которой данные у нас берутся из списка strings, а названия столцов пропишем свои вручную\n",
        "df = pd.DataFrame(strings, columns=['name', 'rate', 'rates', 'description', 'year', 'duration', 'rating'])\n",
        "df.to_excel('result.xlsx', index=False) #сохраняем полученную таблицу в формате эксель, убираем ненужный столбец с индексами с помощью index=False\n",
        "logging.info(\"successful creation of the table\")"
      ]
    }
  ],
  "metadata": {
    "colab": {
      "provenance": []
    },
    "kernelspec": {
      "display_name": "base",
      "language": "python",
      "name": "python3"
    },
    "language_info": {
      "codemirror_mode": {
        "name": "ipython",
        "version": 3
      },
      "file_extension": ".py",
      "mimetype": "text/x-python",
      "name": "python",
      "nbconvert_exporter": "python",
      "pygments_lexer": "ipython3",
      "version": "3.11.7"
    }
  },
  "nbformat": 4,
  "nbformat_minor": 0
}