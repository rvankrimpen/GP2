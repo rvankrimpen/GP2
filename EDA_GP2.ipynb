{
  "nbformat": 4,
  "nbformat_minor": 0,
  "metadata": {
    "colab": {
      "provenance": []
    },
    "kernelspec": {
      "name": "python3",
      "display_name": "Python 3"
    },
    "language_info": {
      "name": "python"
    }
  },
  "cells": [
    {
      "cell_type": "code",
      "execution_count": 185,
      "metadata": {
        "id": "n8zam0QQMHS_"
      },
      "outputs": [],
      "source": [
        "import numpy as np\n",
        "import pandas as pd\n",
        "\n",
        "API = pd.read_excel('/content/API.xlsx')\n",
        "Scr = pd.read_excel('/content/Scraping.xlsx')"
      ]
    },
    {
      "cell_type": "code",
      "source": [
        "API = API.drop_duplicates(subset='title') #Удаляем повторы в API, так как там буквально идентичные строки\n",
        "Scr = Scr.drop_duplicates(subset='name') #Удаляем повторы в Scraping, так как там буквально идентичные строки\n"
      ],
      "metadata": {
        "id": "1jvijnGQNF9_"
      },
      "execution_count": 186,
      "outputs": []
    },
    {
      "cell_type": "code",
      "source": [
        "not_found_count = (Scr['rate'] == 'Not found').sum()\n",
        "print(not_found_count)\n"
      ],
      "metadata": {
        "colab": {
          "base_uri": "https://localhost:8080/"
        },
        "id": "993Z-SZvQ_oj",
        "outputId": "ef2fa2c7-d489-4771-f813-86d289b9b55b"
      },
      "execution_count": 187,
      "outputs": [
        {
          "output_type": "stream",
          "name": "stdout",
          "text": [
            "678\n"
          ]
        }
      ]
    },
    {
      "cell_type": "code",
      "source": [
        "na_count = API['rating'].isna().sum()\n",
        "print(na_count)"
      ],
      "metadata": {
        "colab": {
          "base_uri": "https://localhost:8080/"
        },
        "id": "X81ZqJxjRm2_",
        "outputId": "e157d8ad-24e8-4f72-9af2-7a2dfb70a2d6"
      },
      "execution_count": 188,
      "outputs": [
        {
          "output_type": "stream",
          "name": "stdout",
          "text": [
            "689\n"
          ]
        }
      ]
    },
    {
      "cell_type": "code",
      "source": [
        "Scr = Scr.loc[Scr['rates'].str.contains('K', na=False)] #Удаляем строки, где отзывов меньше 1000 или их вообще нет\n",
        "\n",
        "\n",
        "\n"
      ],
      "metadata": {
        "collapsed": true,
        "id": "ZpiNqY4TTnBq"
      },
      "execution_count": 189,
      "outputs": []
    },
    {
      "cell_type": "code",
      "source": [
        "# Удаляем первый символ и последние два символа в 'rates', чтобы остались тольцо цифры стринг\n",
        "Scr['rates'] = Scr['rates'].str[2:-2]\n",
        "\n"
      ],
      "metadata": {
        "id": "FjBcy01gXU4_"
      },
      "execution_count": 190,
      "outputs": []
    },
    {
      "cell_type": "code",
      "source": [
        "Scr['rates'] = Scr['rates'].astype(float) #превращаем стринг в флоат\n",
        "Scr['rates'] = Scr['rates'].round().astype(int) #приводим к целым значениям в тысячах и int\n"
      ],
      "metadata": {
        "id": "0E5U5SJPdRG5"
      },
      "execution_count": 191,
      "outputs": []
    },
    {
      "cell_type": "code",
      "source": [
        "Scr['rate'] = Scr['rate'].astype(float)\n",
        "Scr['rate'] = (Scr['rate'] * 10).astype(int) #Приводим rate к int и делаем оценку по 100 балльной шкале\n",
        "Scr['year'] = Scr['year'].astype(str).str[:4].astype(int) #Оставим только год начала и переделаем в int\n",
        "Scr_cl=Scr"
      ],
      "metadata": {
        "id": "wtTyIrVNeklO"
      },
      "execution_count": 192,
      "outputs": []
    },
    {
      "cell_type": "code",
      "source": [
        "merged_df = Scr.merge(API, left_on='name', right_on='title', how='inner') # Объединяем Scr и API по столбцам 'name' и 'title' оставляя только совпадения\n",
        "merged_df.to_excel('clean.xlsx', index=False)\n",
        "\n"
      ],
      "metadata": {
        "id": "dqydohEpgvKB"
      },
      "execution_count": 194,
      "outputs": []
    }
  ]
}